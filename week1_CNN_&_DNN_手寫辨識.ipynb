{
  "nbformat": 4,
  "nbformat_minor": 0,
  "metadata": {
    "colab": {
      "provenance": [],
      "gpuType": "T4",
      "authorship_tag": "ABX9TyNFGZVP7Dat7HYMs8tT8yV1",
      "include_colab_link": true
    },
    "kernelspec": {
      "name": "python3",
      "display_name": "Python 3"
    },
    "language_info": {
      "name": "python"
    },
    "accelerator": "GPU"
  },
  "cells": [
    {
      "cell_type": "markdown",
      "metadata": {
        "id": "view-in-github",
        "colab_type": "text"
      },
      "source": [
        "<a href=\"https://colab.research.google.com/github/loisC123/Deep-learning/blob/main/week1_CNN_%26_DNN_%E6%89%8B%E5%AF%AB%E8%BE%A8%E8%AD%98.ipynb\" target=\"_parent\"><img src=\"https://colab.research.google.com/assets/colab-badge.svg\" alt=\"Open In Colab\"/></a>"
      ]
    },
    {
      "cell_type": "code",
      "execution_count": 1,
      "metadata": {
        "colab": {
          "base_uri": "https://localhost:8080/"
        },
        "id": "OFPcikiEub76",
        "outputId": "dfa6cb7b-d488-4bce-e43b-cadd8fab1459"
      },
      "outputs": [
        {
          "output_type": "stream",
          "name": "stdout",
          "text": [
            "Downloading data from https://storage.googleapis.com/tensorflow/tf-keras-datasets/mnist.npz\n",
            "11490434/11490434 [==============================] - 2s 0us/step\n"
          ]
        }
      ],
      "source": [
        "from keras.datasets import mnist\n",
        "from keras.utils import np_utils\n",
        "import numpy as np\n",
        "\n",
        "np.random.seed(10)\n",
        "\n",
        "# Read MNIST data\n",
        "(X_Train, y_Train), (X_Test, y_Test) = mnist.load_data()\n",
        "\n",
        "# Translation of data\n",
        "X_Train4D = X_Train.reshape(X_Train.shape[0], 28, 28, 1).astype('float32')\n",
        "X_Test4D = X_Test.reshape(X_Test.shape[0], 28, 28, 1).astype('float32')"
      ]
    },
    {
      "cell_type": "code",
      "source": [
        "# Standardize feature data\n",
        "X_Train4D_norm = X_Train4D / 255\n",
        "X_Test4D_norm = X_Test4D /255\n",
        "\n",
        "# Label Onehot-encoding\n",
        "y_TrainOneHot = np_utils.to_categorical(y_Train)\n",
        "y_TestOneHot = np_utils.to_categorical(y_Test)"
      ],
      "metadata": {
        "id": "gJxhKX0fufHM"
      },
      "execution_count": 2,
      "outputs": []
    },
    {
      "cell_type": "code",
      "source": [
        "from keras.models import Sequential\n",
        "from keras.layers import Dense,Dropout,Flatten,Conv2D,MaxPool2D\n",
        "\n",
        "model = Sequential()\n",
        "# Create CN layer 1\n",
        "model.add(Conv2D(filters=16,\n",
        "                 kernel_size=(5,5),\n",
        "                 padding='same',\n",
        "                 input_shape=(28,28,1),\n",
        "                 activation='relu',\n",
        "                 name='conv2d_1'))\n",
        "# Create Max-Pool 1\n",
        "model.add(MaxPool2D(pool_size=(2,2), name='max_pooling2d_1'))\n",
        "\n",
        "# Create CN layer 2\n",
        "model.add(Conv2D(filters=36,\n",
        "                 kernel_size=(5,5),\n",
        "                 padding='same',\n",
        "                 input_shape=(28,28,1),\n",
        "                 activation='relu',\n",
        "                 name='conv2d_2'))\n",
        "\n",
        "# Create Max-Pool 2\n",
        "model.add(MaxPool2D(pool_size=(2,2), name='max_pooling2d_2'))\n",
        "\n",
        "# Add Dropout layer\n",
        "model.add(Dropout(0.25, name='dropout_1'))"
      ],
      "metadata": {
        "id": "AyTbjTQ5uj0U"
      },
      "execution_count": 3,
      "outputs": []
    },
    {
      "cell_type": "code",
      "source": [
        "model.add(Flatten(name='flatten_1'))"
      ],
      "metadata": {
        "id": "oXEs-TTOukYa"
      },
      "execution_count": 4,
      "outputs": []
    },
    {
      "cell_type": "code",
      "source": [
        "model.add(Dense(128, activation='relu', name='dense_1'))\n",
        "model.add(Dropout(0.5, name='dropout_2'))"
      ],
      "metadata": {
        "id": "_Ph0iFv1unqi"
      },
      "execution_count": 5,
      "outputs": []
    },
    {
      "cell_type": "code",
      "source": [
        "model.add(Dense(10, activation='softmax', name='dense_2'))"
      ],
      "metadata": {
        "id": "WdwYd64VupJ6"
      },
      "execution_count": 6,
      "outputs": []
    },
    {
      "cell_type": "code",
      "source": [
        "model.summary()\n",
        "print(\"\")"
      ],
      "metadata": {
        "colab": {
          "base_uri": "https://localhost:8080/"
        },
        "id": "B6XNHzalurKK",
        "outputId": "67a4dab7-f137-4e67-c2c8-1772bd07fdda"
      },
      "execution_count": 7,
      "outputs": [
        {
          "output_type": "stream",
          "name": "stdout",
          "text": [
            "Model: \"sequential\"\n",
            "_________________________________________________________________\n",
            " Layer (type)                Output Shape              Param #   \n",
            "=================================================================\n",
            " conv2d_1 (Conv2D)           (None, 28, 28, 16)        416       \n",
            "                                                                 \n",
            " max_pooling2d_1 (MaxPooling  (None, 14, 14, 16)       0         \n",
            " 2D)                                                             \n",
            "                                                                 \n",
            " conv2d_2 (Conv2D)           (None, 14, 14, 36)        14436     \n",
            "                                                                 \n",
            " max_pooling2d_2 (MaxPooling  (None, 7, 7, 36)         0         \n",
            " 2D)                                                             \n",
            "                                                                 \n",
            " dropout_1 (Dropout)         (None, 7, 7, 36)          0         \n",
            "                                                                 \n",
            " flatten_1 (Flatten)         (None, 1764)              0         \n",
            "                                                                 \n",
            " dense_1 (Dense)             (None, 128)               225920    \n",
            "                                                                 \n",
            " dropout_2 (Dropout)         (None, 128)               0         \n",
            "                                                                 \n",
            " dense_2 (Dense)             (None, 10)                1290      \n",
            "                                                                 \n",
            "=================================================================\n",
            "Total params: 242,062\n",
            "Trainable params: 242,062\n",
            "Non-trainable params: 0\n",
            "_________________________________________________________________\n",
            "\n"
          ]
        }
      ]
    },
    {
      "cell_type": "code",
      "source": [
        "# 定義訓練方式\n",
        "model.compile(loss='categorical_crossentropy', optimizer='adam', metrics=['accuracy'])\n",
        "\n",
        "# 開始訓練\n",
        "train_history = model.fit(x=X_Train4D_norm,\n",
        "                          y=y_TrainOneHot, validation_split=0.2,\n",
        "                          epochs=10, batch_size=300, verbose=1)"
      ],
      "metadata": {
        "colab": {
          "base_uri": "https://localhost:8080/"
        },
        "id": "6cyAdqK5utO6",
        "outputId": "c4af2110-4c89-40c8-8b76-3a07d1eb4d7f"
      },
      "execution_count": 20,
      "outputs": [
        {
          "output_type": "stream",
          "name": "stdout",
          "text": [
            "Epoch 1/10\n",
            "160/160 [==============================] - 3s 11ms/step - loss: 0.0384 - accuracy: 0.9882 - val_loss: 0.0320 - val_accuracy: 0.9912\n",
            "Epoch 2/10\n",
            "160/160 [==============================] - 1s 9ms/step - loss: 0.0350 - accuracy: 0.9892 - val_loss: 0.0311 - val_accuracy: 0.9918\n",
            "Epoch 3/10\n",
            "160/160 [==============================] - 1s 8ms/step - loss: 0.0305 - accuracy: 0.9901 - val_loss: 0.0323 - val_accuracy: 0.9913\n",
            "Epoch 4/10\n",
            "160/160 [==============================] - 1s 8ms/step - loss: 0.0306 - accuracy: 0.9907 - val_loss: 0.0309 - val_accuracy: 0.9913\n",
            "Epoch 5/10\n",
            "160/160 [==============================] - 1s 8ms/step - loss: 0.0268 - accuracy: 0.9914 - val_loss: 0.0315 - val_accuracy: 0.9916\n",
            "Epoch 6/10\n",
            "160/160 [==============================] - 1s 8ms/step - loss: 0.0264 - accuracy: 0.9920 - val_loss: 0.0325 - val_accuracy: 0.9908\n",
            "Epoch 7/10\n",
            "160/160 [==============================] - 1s 8ms/step - loss: 0.0244 - accuracy: 0.9923 - val_loss: 0.0304 - val_accuracy: 0.9919\n",
            "Epoch 8/10\n",
            "160/160 [==============================] - 1s 8ms/step - loss: 0.0224 - accuracy: 0.9927 - val_loss: 0.0302 - val_accuracy: 0.9927\n",
            "Epoch 9/10\n",
            "160/160 [==============================] - 1s 8ms/step - loss: 0.0209 - accuracy: 0.9929 - val_loss: 0.0330 - val_accuracy: 0.9908\n",
            "Epoch 10/10\n",
            "160/160 [==============================] - 1s 8ms/step - loss: 0.0197 - accuracy: 0.9937 - val_loss: 0.0317 - val_accuracy: 0.9915\n"
          ]
        }
      ]
    },
    {
      "cell_type": "code",
      "source": [
        "print(\"\\t[Info] Making prediction of X_Test4D_norm\")\n",
        "#prediction = model.predict_classes(X_Test4D_norm)  # Making prediction and save result to prediction\n",
        "predict_x = model.predict(X_Test4D_norm)\n",
        "classes_x = np.argmax(predict_x,axis=1)\n",
        "prediction = classes_x\n",
        "print()\n",
        "print(\"\\t[Info] Show 10 prediction result (From 240):\")\n",
        "#print(\"%s\\n\" % (prediction[240:250]))\n",
        "print(\"%s\\n\" % (prediction[240:250]))"
      ],
      "metadata": {
        "colab": {
          "base_uri": "https://localhost:8080/"
        },
        "id": "qyz06wRquxYr",
        "outputId": "4ab049be-d6e1-481a-9063-e64106c73586"
      },
      "execution_count": 17,
      "outputs": [
        {
          "output_type": "stream",
          "name": "stdout",
          "text": [
            "\t[Info] Making prediction of X_Test4D_norm\n",
            "313/313 [==============================] - 1s 2ms/step\n",
            "\n",
            "\t[Info] Show 10 prediction result (From 240):\n",
            "[5 9 8 7 2 3 0 4 4 2]\n",
            "\n"
          ]
        }
      ]
    }
  ]
}